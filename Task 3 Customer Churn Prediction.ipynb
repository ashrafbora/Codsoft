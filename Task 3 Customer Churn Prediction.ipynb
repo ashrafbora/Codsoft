{
 "cells": [
  {
   "cell_type": "code",
   "execution_count": 54,
   "id": "b65a0912-b2a4-43e1-b682-e79078aad316",
   "metadata": {},
   "outputs": [],
   "source": [
    "import numpy as np\n",
    "import pandas as pd\n",
    "import seaborn as sns\n",
    "import matplotlib.pyplot as plt\n",
    "from sklearn.model_selection import train_test_split\n",
    "from sklearn.feature_extraction.text import TfidfVectorizer\n",
    "from sklearn.preprocessing import LabelEncoder, StandardScaler\n",
    "from sklearn.naive_bayes import MultinomialNB\n",
    "from sklearn.tree import DecisionTreeClassifier, export_text\n",
    "from sklearn.linear_model import LogisticRegression\n",
    "from sklearn.ensemble import GradientBoostingClassifier\n",
    "from sklearn.ensemble import RandomForestClassifier\n",
    "from sklearn.metrics import accuracy_score, confusion_matrix, classification_report"
   ]
  },
  {
   "cell_type": "code",
   "execution_count": 45,
   "id": "01429bbd-0b3a-4225-9997-02ffaaba093b",
   "metadata": {},
   "outputs": [
    {
     "name": "stdout",
     "output_type": "stream",
     "text": [
      "   RowNumber  CustomerId   Surname  CreditScore Geography  Gender  Age  \\\n",
      "0          1    15634602  Hargrave          619    France  Female   42   \n",
      "1          2    15647311      Hill          608     Spain  Female   41   \n",
      "2          3    15619304      Onio          502    France  Female   42   \n",
      "3          4    15701354      Boni          699    France  Female   39   \n",
      "4          5    15737888  Mitchell          850     Spain  Female   43   \n",
      "\n",
      "   Tenure    Balance  NumOfProducts  HasCrCard  IsActiveMember  \\\n",
      "0       2       0.00              1          1               1   \n",
      "1       1   83807.86              1          0               1   \n",
      "2       8  159660.80              3          1               0   \n",
      "3       1       0.00              2          0               0   \n",
      "4       2  125510.82              1          1               1   \n",
      "\n",
      "   EstimatedSalary  Exited  \n",
      "0        101348.88       1  \n",
      "1        112542.58       0  \n",
      "2        113931.57       1  \n",
      "3         93826.63       0  \n",
      "4         79084.10       0  \n",
      "           CustomerId   Surname  CreditScore Geography  Gender  Age  Tenure  \\\n",
      "RowNumber                                                                     \n",
      "1            15634602  Hargrave          619    France  Female   42       2   \n",
      "2            15647311      Hill          608     Spain  Female   41       1   \n",
      "3            15619304      Onio          502    France  Female   42       8   \n",
      "4            15701354      Boni          699    France  Female   39       1   \n",
      "5            15737888  Mitchell          850     Spain  Female   43       2   \n",
      "\n",
      "             Balance  NumOfProducts  HasCrCard  IsActiveMember  \\\n",
      "RowNumber                                                        \n",
      "1               0.00              1          1               1   \n",
      "2           83807.86              1          0               1   \n",
      "3          159660.80              3          1               0   \n",
      "4               0.00              2          0               0   \n",
      "5          125510.82              1          1               1   \n",
      "\n",
      "           EstimatedSalary  Exited  \n",
      "RowNumber                           \n",
      "1                101348.88       1  \n",
      "2                112542.58       0  \n",
      "3                113931.57       1  \n",
      "4                 93826.63       0  \n",
      "5                 79084.10       0  \n",
      "           CreditScore  Gender  Age  Tenure  NumOfProducts  EstimatedSalary  \\\n",
      "RowNumber                                                                     \n",
      "1                  619  Female   42       2              1        101348.88   \n",
      "2                  608  Female   41       1              1        112542.58   \n",
      "3                  502  Female   42       8              3        113931.57   \n",
      "4                  699  Female   39       1              2         93826.63   \n",
      "5                  850  Female   43       2              1         79084.10   \n",
      "\n",
      "           Exited  \n",
      "RowNumber          \n",
      "1               1  \n",
      "2               0  \n",
      "3               1  \n",
      "4               0  \n",
      "5               0  \n"
     ]
    }
   ],
   "source": [
    "df = pd.read_csv(r'C:\\Users\\ashra\\Desktop\\SDBI Stuff\\Sem II\\ML\\CODSOFTT\\Datasets\\Customer Churn Prediction\\Churn_Modelling.csv')\n",
    "print(df.head())\n",
    "df=df.set_index('RowNumber')\n",
    "print(df.head())\n",
    "df1= df.iloc[ :,[2,4,5,6,8,11,12]]\n",
    "print(df1.head())"
   ]
  },
  {
   "cell_type": "code",
   "execution_count": 50,
   "id": "86117d76-d3c7-4e2b-a685-7914c219e4f8",
   "metadata": {},
   "outputs": [
    {
     "name": "stdout",
     "output_type": "stream",
     "text": [
      "Accuracy: 0.8255\n",
      "Confusion Matrix:\n",
      " [[1502  105]\n",
      " [ 244  149]]\n",
      "Classification Report: \n",
      "               precision    recall  f1-score   support\n",
      "\n",
      "           0       0.86      0.93      0.90      1607\n",
      "           1       0.59      0.38      0.46       393\n",
      "\n",
      "    accuracy                           0.83      2000\n",
      "   macro avg       0.72      0.66      0.68      2000\n",
      "weighted avg       0.81      0.83      0.81      2000\n",
      "\n"
     ]
    }
   ],
   "source": [
    "##Random Forests\n",
    "rf= RandomForestClassifier(n_estimators=100, random_state=42)\n",
    "rf.fit(x_train, y_train)\n",
    "y_pred = rf.predict(x_test)\n",
    "\n",
    "print('Accuracy:', accuracy_score(y_test,y_pred))\n",
    "print('Confusion Matrix:\\n', confusion_matrix(y_test,y_pred))\n",
    "print('Classification Report: \\n', classification_report(y_test, y_pred))"
   ]
  },
  {
   "cell_type": "code",
   "execution_count": 48,
   "id": "2383983a-fde1-42e2-989c-11c833e43585",
   "metadata": {},
   "outputs": [
    {
     "name": "stderr",
     "output_type": "stream",
     "text": [
      "C:\\Users\\ashra\\AppData\\Local\\Temp\\ipykernel_38596\\894556987.py:3: SettingWithCopyWarning: \n",
      "A value is trying to be set on a copy of a slice from a DataFrame.\n",
      "Try using .loc[row_indexer,col_indexer] = value instead\n",
      "\n",
      "See the caveats in the documentation: https://pandas.pydata.org/pandas-docs/stable/user_guide/indexing.html#returning-a-view-versus-a-copy\n",
      "  df1['Gender']=le.fit_transform(df1['Gender'])\n"
     ]
    },
    {
     "name": "stdout",
     "output_type": "stream",
     "text": [
      "Accuracy: 0.8\n",
      "Confusion Matrix:\n",
      " [[1587   20]\n",
      " [ 380   13]]\n",
      "Classification Report: \n",
      "               precision    recall  f1-score   support\n",
      "\n",
      "           0       0.81      0.99      0.89      1607\n",
      "           1       0.39      0.03      0.06       393\n",
      "\n",
      "    accuracy                           0.80      2000\n",
      "   macro avg       0.60      0.51      0.47      2000\n",
      "weighted avg       0.73      0.80      0.73      2000\n",
      "\n"
     ]
    },
    {
     "name": "stderr",
     "output_type": "stream",
     "text": [
      "C:\\Users\\ashra\\anaconda3\\Lib\\site-packages\\sklearn\\linear_model\\_logistic.py:469: ConvergenceWarning: lbfgs failed to converge (status=1):\n",
      "STOP: TOTAL NO. of ITERATIONS REACHED LIMIT.\n",
      "\n",
      "Increase the number of iterations (max_iter) or scale the data as shown in:\n",
      "    https://scikit-learn.org/stable/modules/preprocessing.html\n",
      "Please also refer to the documentation for alternative solver options:\n",
      "    https://scikit-learn.org/stable/modules/linear_model.html#logistic-regression\n",
      "  n_iter_i = _check_optimize_result(\n"
     ]
    }
   ],
   "source": [
    "## Logistic Regression\n",
    "le = LabelEncoder()\n",
    "df1['Gender']=le.fit_transform(df1['Gender'])\n",
    "\n",
    "x = df1.drop('Exited',axis = 1)\n",
    "y = df1['Exited']\n",
    "\n",
    "x_train,x_test,y_train,y_test = train_test_split(x,y,test_size = 0.2, random_state = 42)\n",
    "\n",
    "logreg = LogisticRegression()\n",
    "logreg.fit(x_train, y_train)\n",
    "\n",
    "y_pred = logreg.predict(x_test)\n",
    "\n",
    "print('Accuracy:', accuracy_score(y_test,y_pred))\n",
    "print('Confusion Matrix:\\n', confusion_matrix(y_test,y_pred))\n",
    "print('Classification Report: \\n', classification_report(y_test, y_pred))"
   ]
  },
  {
   "cell_type": "code",
   "execution_count": 56,
   "id": "813392ec-5618-406c-a8d7-6ed2d75a6845",
   "metadata": {},
   "outputs": [
    {
     "name": "stdout",
     "output_type": "stream",
     "text": [
      "Accuracy: 0.848\n",
      "Confusion Matrix:\n",
      " [[1518   89]\n",
      " [ 215  178]]\n",
      "Classification Report: \n",
      "               precision    recall  f1-score   support\n",
      "\n",
      "           0       0.88      0.94      0.91      1607\n",
      "           1       0.67      0.45      0.54       393\n",
      "\n",
      "    accuracy                           0.85      2000\n",
      "   macro avg       0.77      0.70      0.72      2000\n",
      "weighted avg       0.83      0.85      0.84      2000\n",
      "\n"
     ]
    }
   ],
   "source": [
    "##Gradient Boosting\n",
    "gb = GradientBoostingClassifier(n_estimators=100, learning_rate=0.1, max_depth=3, random_state=42)\n",
    "gb.fit(x_train, y_train)\n",
    "y_pred = gb.predict(x_test)\n",
    "\n",
    "print('Accuracy:', accuracy_score(y_test,y_pred))\n",
    "print('Confusion Matrix:\\n', confusion_matrix(y_test,y_pred))\n",
    "print('Classification Report: \\n', classification_report(y_test, y_pred))"
   ]
  }
 ],
 "metadata": {
  "kernelspec": {
   "display_name": "Python 3 (ipykernel)",
   "language": "python",
   "name": "python3"
  },
  "language_info": {
   "codemirror_mode": {
    "name": "ipython",
    "version": 3
   },
   "file_extension": ".py",
   "mimetype": "text/x-python",
   "name": "python",
   "nbconvert_exporter": "python",
   "pygments_lexer": "ipython3",
   "version": "3.12.4"
  }
 },
 "nbformat": 4,
 "nbformat_minor": 5
}
